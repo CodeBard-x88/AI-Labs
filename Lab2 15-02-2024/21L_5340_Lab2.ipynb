{
  "nbformat": 4,
  "nbformat_minor": 0,
  "metadata": {
    "colab": {
      "provenance": []
    },
    "kernelspec": {
      "name": "python3",
      "display_name": "Python 3"
    },
    "language_info": {
      "name": "python"
    }
  },
  "cells": [
    {
      "cell_type": "code",
      "execution_count": 48,
      "metadata": {
        "colab": {
          "base_uri": "https://localhost:8080/"
        },
        "id": "-_apnfuKRDjv",
        "outputId": "d09433a4-d44a-402f-b8a1-f692ec1de344"
      },
      "outputs": [
        {
          "output_type": "stream",
          "name": "stdout",
          "text": [
            "Enter number  1: 1\n",
            "Enter number  2: 2\n",
            "Enter number  3: 3\n",
            "Enter number  4: 4\n",
            "Enter number  5: 5\n",
            "Enter number  6: 6\n",
            "Enter number  7: 7\n",
            "Enter number  8: 8\n",
            "Enter number  9: 9\n",
            "Enter number  10: 10\n",
            "Enter number  11: 11\n",
            "Enter number  12: 12\n",
            "Enter number  13: 13\n",
            "Enter number  14: 14\n",
            "Enter number  15: 15\n",
            "Enter number  16: 16\n",
            "Enter number  17: 17\n",
            "Enter number  18: 18\n",
            "Enter number  19: 19\n",
            "Enter number  20: 20\n",
            "Odd numbers: 10 \n",
            "Even Numbers: 10 \n",
            "Total Zeroes: 0 \n",
            "Positives: 20 \n",
            "Negatives: 0\n"
          ]
        }
      ],
      "source": [
        "#Q1\n",
        "\n",
        "numbers = []\n",
        "for i in range(20):\n",
        "    number = int(input(f'Enter number  {i+1}: '))\n",
        "    numbers.append(number)\n",
        "\n",
        "positives = 0\n",
        "negatives = 0\n",
        "odds = 0\n",
        "evens = 0\n",
        "zeroes = 0\n",
        "\n",
        "for i in range(20):\n",
        "  if(numbers[i] == 0):\n",
        "    zeroes += 1\n",
        "  if(numbers[i] % 2 == 0):\n",
        "    evens += 1\n",
        "  if(numbers[i] % 2 == 1):\n",
        "    odds += 1\n",
        "  if(numbers[i] > 0):\n",
        "    positives += 1\n",
        "  if(numbers[i] < 0):\n",
        "    negatives += 1\n",
        "\n",
        "\n",
        "print(f'Odd numbers: {odds} \\nEven Numbers: {evens} \\nTotal Zeroes: {zeroes} \\nPositives: {positives} \\nNegatives: {negatives}')\n"
      ]
    },
    {
      "cell_type": "markdown",
      "source": [],
      "metadata": {
        "id": "7tI1gvZLXNps"
      }
    },
    {
      "cell_type": "code",
      "source": [
        "#Q2\n",
        "\n",
        "list1 = []\n",
        "\n",
        "for i in range(10):\n",
        "  num = input (f'Enter Number {i+1} :')\n",
        "  list1.append(num)\n",
        "\n",
        "list2 = []\n",
        "\n",
        "j=0\n",
        "for i in range (-1,-11,-1):\n",
        "  list2.append(list1[i])\n",
        "  j += 1\n",
        "\n",
        "print(\"\\nNumbers in list 2 are: \")\n",
        "for i in range(10):\n",
        "  print(list2[i])"
      ],
      "metadata": {
        "colab": {
          "base_uri": "https://localhost:8080/"
        },
        "id": "vE8DzVnMUFUz",
        "outputId": "83c5e108-70f4-47f1-8143-87efd8c1dfad"
      },
      "execution_count": 47,
      "outputs": [
        {
          "output_type": "stream",
          "name": "stdout",
          "text": [
            "Enter Number 1 :1\n",
            "Enter Number 2 :2\n",
            "Enter Number 3 :3\n",
            "Enter Number 4 :4\n",
            "Enter Number 5 :5\n",
            "Enter Number 6 :6\n",
            "Enter Number 7 :7\n",
            "Enter Number 8 :8\n",
            "Enter Number 9 :9\n",
            "Enter Number 10 :10\n",
            "\n",
            "Numbers in list 2 are: \n",
            "10\n",
            "9\n",
            "8\n",
            "7\n",
            "6\n",
            "5\n",
            "4\n",
            "3\n",
            "2\n",
            "1\n"
          ]
        }
      ]
    },
    {
      "cell_type": "code",
      "source": [
        "#Q3\n",
        "\n",
        "sum = 0\n",
        "\n",
        "list2 = [1,2,3,4,5,6,7,8,9,10]\n",
        "\n",
        "for i in range(10):\n",
        "  sum += list2[i]\n",
        "\n",
        "print(f'Sum of list2 elements is : {sum}')"
      ],
      "metadata": {
        "colab": {
          "base_uri": "https://localhost:8080/"
        },
        "id": "ACHMq0MTZP8l",
        "outputId": "091bb0c1-4d57-4044-e3e3-c450d1b57bbd"
      },
      "execution_count": 27,
      "outputs": [
        {
          "output_type": "stream",
          "name": "stdout",
          "text": [
            "Sum of list2 elements is : 55\n"
          ]
        }
      ]
    },
    {
      "cell_type": "code",
      "source": [
        "#Q4\n",
        "\n",
        "product = 1\n",
        "\n",
        "list2 = [1,2,3,4,5,6,7,8,9,10]\n",
        "\n",
        "for i in range(10):\n",
        "  product *= list2[i]\n",
        "\n",
        "print(f'Product of list2 elements is : {product}')"
      ],
      "metadata": {
        "colab": {
          "base_uri": "https://localhost:8080/"
        },
        "id": "bLkg9IYeawX0",
        "outputId": "2011abf9-3054-47a5-d7a9-ed02ed1fbb00"
      },
      "execution_count": 29,
      "outputs": [
        {
          "output_type": "stream",
          "name": "stdout",
          "text": [
            "Product of list2 elements is : 3628800\n"
          ]
        }
      ]
    },
    {
      "cell_type": "code",
      "source": [
        "#Q5\n",
        "\n",
        "list2 = [1,2,3,4,5,6,7,8,9,10]\n",
        "\n",
        "max = list2[0]\n",
        "min = list2[1]\n",
        "\n",
        "for i in range(10):\n",
        "  if(list2[i] < min):\n",
        "    min = list2[i]\n",
        "  if(list2[i] > max):\n",
        "    max = list2[i]\n",
        "\n",
        "print(f'Max={max}\\nMin={min}')"
      ],
      "metadata": {
        "colab": {
          "base_uri": "https://localhost:8080/"
        },
        "id": "M12Mkg18bBro",
        "outputId": "c98799fe-b0ab-49ad-d85c-6c6728387bbf"
      },
      "execution_count": 30,
      "outputs": [
        {
          "output_type": "stream",
          "name": "stdout",
          "text": [
            "Max=10\n",
            "Min=1\n"
          ]
        }
      ]
    },
    {
      "cell_type": "code",
      "source": [
        "#Q6\n",
        "\n",
        "list2 = [1,2,3,2,1]\n",
        "\n",
        "isPalindrome = True;\n",
        "\n",
        "\n",
        "for i in range(len(list2)//2):\n",
        "  if list2[i] != list2[-i-1]:\n",
        "    isPalindrome = False\n",
        "\n",
        "if(isPalindrome):\n",
        "  print(\"List is Palindrome\")\n",
        "else:\n",
        "  print(\"List is not Palindrome\")"
      ],
      "metadata": {
        "colab": {
          "base_uri": "https://localhost:8080/"
        },
        "id": "wSJiId7Ub_KV",
        "outputId": "92ceb653-6d1a-4cc2-a95b-6c3f071299ff"
      },
      "execution_count": 36,
      "outputs": [
        {
          "output_type": "stream",
          "name": "stdout",
          "text": [
            "List is Palindrome\n"
          ]
        }
      ]
    },
    {
      "cell_type": "code",
      "source": [
        "#Q7\n",
        "\n",
        "tuple1 = 1,2,3\n",
        "\n",
        "a,b,c = tuple1\n",
        "\n",
        "print(f'{a}\\n{b}\\n{c}')"
      ],
      "metadata": {
        "colab": {
          "base_uri": "https://localhost:8080/"
        },
        "id": "W69Wyjdhd717",
        "outputId": "c713ae63-ee1b-4371-e9d4-cbac57851d99"
      },
      "execution_count": 37,
      "outputs": [
        {
          "output_type": "stream",
          "name": "stdout",
          "text": [
            "1\n",
            "2\n",
            "3\n"
          ]
        }
      ]
    },
    {
      "cell_type": "code",
      "source": [
        "#Q8\n",
        "tuple1 = (1, 2, 3)\n",
        "my_list = list(tuple1)\n",
        "my_list.append(4)\n",
        "new_tuple = tuple(my_list)\n",
        "print(new_tuple)"
      ],
      "metadata": {
        "colab": {
          "base_uri": "https://localhost:8080/"
        },
        "id": "c5TAXXARevrV",
        "outputId": "4bce7a63-64fe-4e33-8cc4-19a41d656814"
      },
      "execution_count": 38,
      "outputs": [
        {
          "output_type": "stream",
          "name": "stdout",
          "text": [
            "(1, 2, 3, 4)\n"
          ]
        }
      ]
    },
    {
      "cell_type": "code",
      "source": [
        "#Q9\n",
        "\n",
        "my_tuple = ((\"a\", 1), (\"b\", 2), (\"c\", 3))\n",
        "my_dict = dict(my_tuple)\n",
        "print(my_dict)"
      ],
      "metadata": {
        "colab": {
          "base_uri": "https://localhost:8080/"
        },
        "id": "sIV9SrDAfatJ",
        "outputId": "8c348d35-bca3-4924-956a-a49a0c826dbf"
      },
      "execution_count": 39,
      "outputs": [
        {
          "output_type": "stream",
          "name": "stdout",
          "text": [
            "{'a': 1, 'b': 2, 'c': 3}\n"
          ]
        }
      ]
    },
    {
      "cell_type": "code",
      "source": [
        "#Q10\n",
        "\n",
        "tuple1 = (1,2,3)\n",
        "newTuple = tuple1[::-1]\n",
        "\n",
        "print(newTuple)"
      ],
      "metadata": {
        "colab": {
          "base_uri": "https://localhost:8080/"
        },
        "id": "lpuZU09ef_le",
        "outputId": "3a892da4-5aff-4aa1-cbde-5ac70226b9fd"
      },
      "execution_count": 41,
      "outputs": [
        {
          "output_type": "stream",
          "name": "stdout",
          "text": [
            "(3, 2, 1)\n"
          ]
        }
      ]
    },
    {
      "cell_type": "code",
      "source": [
        "#Q11\n",
        "list1 = [1, 2, 3, 4, 5]\n",
        "list2 = [6, 7, 8]\n",
        "\n",
        "new_list = []\n",
        "length = 0\n",
        "if(len(list1)<len(list2)):\n",
        "  length = len(list1)\n",
        "else:\n",
        "  length = len(list2)\n",
        "\n",
        "for i in range(length):\n",
        "    new_list.append(list1[i])\n",
        "    new_list.append(list2[i])\n",
        "\n",
        "if len(list1) > length:\n",
        "    new_list.extend(list1[length:])\n",
        "elif len(list2) > length:\n",
        "    new_list.extend(list2[length:])\n",
        "\n",
        "print(new_list)"
      ],
      "metadata": {
        "colab": {
          "base_uri": "https://localhost:8080/"
        },
        "id": "B3pvHHIYgckk",
        "outputId": "d3ab61fa-f5a3-4a06-a0f8-dcd6ccad1cdd"
      },
      "execution_count": 58,
      "outputs": [
        {
          "output_type": "stream",
          "name": "stdout",
          "text": [
            "[1, 6, 2, 7, 3, 8, 4, 5]\n"
          ]
        }
      ]
    },
    {
      "cell_type": "code",
      "source": [
        "#Q12\n",
        "tuple_to_sort = 15,19,-1,6\n",
        "\n",
        "sorted_tuple = tuple(sorted(tuple_to_sort))\n",
        "print(sorted_tuple)"
      ],
      "metadata": {
        "colab": {
          "base_uri": "https://localhost:8080/"
        },
        "id": "Wqg0mKoIhINa",
        "outputId": "40f4f55a-da0a-4885-9eb7-22929308a16a"
      },
      "execution_count": 42,
      "outputs": [
        {
          "output_type": "stream",
          "name": "stdout",
          "text": [
            "(-1, 6, 15, 19)\n"
          ]
        }
      ]
    },
    {
      "cell_type": "code",
      "source": [
        "#Q13\n",
        "dict1= {\n",
        "    'emp1': {'name': 'Jhon', 'salary': 7500},\n",
        "    'emp2': {'name': 'Emma', 'salary': 8000},\n",
        "    'emp3': {'name': 'Brad', 'salary': 7000}\n",
        "}\n",
        "\n",
        "dict1['emp3']['salary'] = 8500\n",
        "\n",
        "print(dict1)\n"
      ],
      "metadata": {
        "colab": {
          "base_uri": "https://localhost:8080/"
        },
        "id": "dAWb2VuTh3RH",
        "outputId": "3ddd8e5d-6d00-46c6-cfcb-a680ac87e624"
      },
      "execution_count": 43,
      "outputs": [
        {
          "output_type": "stream",
          "name": "stdout",
          "text": [
            "{'emp1': {'name': 'Jhon', 'salary': 7500}, 'emp2': {'name': 'Emma', 'salary': 8000}, 'emp3': {'name': 'Brad', 'salary': 8500}}\n"
          ]
        }
      ]
    },
    {
      "cell_type": "code",
      "source": [
        "#Q14\n",
        "\n",
        "class Student:\n",
        "    def __init__(self, name, roll_number, gender, cgpa):\n",
        "        self.name = name\n",
        "        self.roll_number = roll_number\n",
        "        self.gender = gender\n",
        "        self.cgpa = cgpa\n",
        "\n",
        "    def get_name(self):\n",
        "        return self.name\n",
        "\n",
        "    def get_roll_number(self):\n",
        "        return self.roll_number\n",
        "\n",
        "    def get_gender(self):\n",
        "        return self.gender\n",
        "\n",
        "    def get_cgpa(self):\n",
        "        return self.cgpa\n",
        "\n",
        "    def set_name(self, name):\n",
        "        self.name = name\n",
        "\n",
        "    def set_roll_number(self, roll_number):\n",
        "        self.roll_number = roll_number\n",
        "\n",
        "    def set_gender(self, gender):\n",
        "        self.gender = gender\n",
        "\n",
        "    def set_cgpa(self, cgpa):\n",
        "        self.cgpa = cgpa\n",
        "\n",
        "student = Student(\"John Doe\", \"12345\", \"Male\", 3.8)\n",
        "print(student.get_name())\n",
        "print(student.get_roll_number())\n",
        "print(student.get_gender())\n",
        "print(student.get_cgpa())\n",
        "\n",
        "student.set_name(\"Jane Smith\")\n",
        "student.set_roll_number(\"54321\")\n",
        "student.set_gender(\"Female\")\n",
        "student.set_cgpa(3.9)\n",
        "\n",
        "print(student.get_name())\n",
        "print(student.get_roll_number())\n",
        "print(student.get_gender())\n",
        "print(student.get_cgpa())\n"
      ],
      "metadata": {
        "colab": {
          "base_uri": "https://localhost:8080/"
        },
        "id": "wQnnxXVvilEj",
        "outputId": "d3509d26-fe67-476d-99ed-7cc982dafee6"
      },
      "execution_count": 44,
      "outputs": [
        {
          "output_type": "stream",
          "name": "stdout",
          "text": [
            "John Doe\n",
            "12345\n",
            "Male\n",
            "3.8\n",
            "Jane Smith\n",
            "54321\n",
            "Female\n",
            "3.9\n"
          ]
        }
      ]
    },
    {
      "cell_type": "code",
      "source": [
        "#Q15\n",
        "\n",
        "class Student:\n",
        "    def __init__(self, name, roll_number, gender, cgpa):\n",
        "        self.name = name\n",
        "        self.roll_number = roll_number\n",
        "        self.gender = gender\n",
        "        self.cgpa = cgpa\n",
        "\n",
        "    def get_name(self):\n",
        "        return self.name\n",
        "\n",
        "    def get_roll_number(self):\n",
        "        return self.roll_number\n",
        "\n",
        "    def get_gender(self):\n",
        "        return self.gender\n",
        "\n",
        "    def get_cgpa(self):\n",
        "        return self.cgpa\n",
        "\n",
        "    def set_name(self, name):\n",
        "        self.name = name\n",
        "\n",
        "    def set_roll_number(self, roll_number):\n",
        "        self.roll_number = roll_number\n",
        "\n",
        "    def set_gender(self, gender):\n",
        "        self.gender = gender\n",
        "\n",
        "    def set_cgpa(self, cgpa):\n",
        "        self.cgpa = cgpa\n",
        "\n",
        "    @staticmethod\n",
        "    def display_male_students(students):\n",
        "        for student in students:\n",
        "            if student.get_gender() == \"male\":\n",
        "                print(f\"Name: {student.get_name()}, Roll Number: {student.get_roll_number()}, CGPA: {student.get_cgpa()}\")\n",
        "\n",
        "\n",
        "student1 = Student(\"John Doe\", 12345, \"male\", 3.8)\n",
        "student2 = Student(\"Jane Smith\", 54321, \"female\", 3.9)\n",
        "student3 = Student(\"Mike Johnson\", 67890, \"male\", 3.7)\n",
        "\n",
        "student1.set_name(\"John Smith\")\n",
        "student2.set_cgpa(4.0)\n",
        "\n",
        "print(f\"Name: {student1.get_name()}, Roll Number: {student1.get_roll_number()}, Gender: {student1.get_gender()}, CGPA: {student1.get_cgpa()}\")\n",
        "print(f\"Name: {student2.get_name()}, Roll Number: {student2.get_roll_number()}, Gender: {student2.get_gender()}, CGPA: {student2.get_cgpa()}\")\n",
        "print(f\"Name: {student3.get_name()}, Roll Number: {student3.get_roll_number()}, Gender: {student3.get_gender()}, CGPA: {student3.get_cgpa()}\")\n",
        "\n",
        "students = [student1, student2, student3]\n",
        "\n",
        "print(\"Records of Male Students:\")\n",
        "Student.display_male_students(students)"
      ],
      "metadata": {
        "colab": {
          "base_uri": "https://localhost:8080/"
        },
        "id": "sn_HNWnDjVTx",
        "outputId": "f09771e8-3526-4363-d155-8a948afb7f85"
      },
      "execution_count": 51,
      "outputs": [
        {
          "output_type": "stream",
          "name": "stdout",
          "text": [
            "Name: John Smith, Roll Number: 12345, Gender: male, CGPA: 3.8\n",
            "Name: Jane Smith, Roll Number: 54321, Gender: female, CGPA: 4.0\n",
            "Name: Mike Johnson, Roll Number: 67890, Gender: male, CGPA: 3.7\n",
            "Records of Male Students:\n",
            "Name: John Smith, Roll Number: 12345, CGPA: 3.8\n",
            "Name: Mike Johnson, Roll Number: 67890, CGPA: 3.7\n"
          ]
        }
      ]
    }
  ]
}